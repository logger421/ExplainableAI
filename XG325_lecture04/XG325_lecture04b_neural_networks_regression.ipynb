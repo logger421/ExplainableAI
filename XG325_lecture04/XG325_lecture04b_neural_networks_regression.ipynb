{
 "cells": [
  {
   "cell_type": "markdown",
   "metadata": {
    "collapsed": true,
    "slideshow": {
     "slide_type": "slide"
    }
   },
   "source": [
    "# XG325: Explainable Artificial Intelligence\n",
    "    \n",
    "## Neural Networks (Regression)\n",
    "\n",
    "**Week 08 | Lecture 04**\n",
    "\n",
    "_Saturday, April 26, 2025_\n",
    "\n",
    "Presented by Dr. Marcin Abram"
   ]
  },
  {
   "cell_type": "code",
   "execution_count": 1,
   "metadata": {
    "slideshow": {
     "slide_type": "subslide"
    }
   },
   "outputs": [],
   "source": [
    "import numpy\n",
    "import pandas\n",
    "import tensorflow\n",
    "import sklearn.linear_model\n",
    "import sklearn.metrics\n",
    "\n",
    "numpy.set_printoptions(suppress=True)\n",
    "numpy.set_printoptions(threshold=10)\n",
    "\n",
    "import matplotlib.pyplot as plt\n",
    "%matplotlib inline\n",
    "\n",
    "from ipywidgets import interact, interactive, fixed, interact_manual"
   ]
  },
  {
   "cell_type": "markdown",
   "metadata": {
    "slideshow": {
     "slide_type": "slide"
    }
   },
   "source": [
    "## Regression"
   ]
  },
  {
   "cell_type": "code",
   "execution_count": 2,
   "metadata": {},
   "outputs": [],
   "source": [
    "# Load dataset\n",
    "x = numpy.linspace(start=1, stop=2.8, num=1001).reshape(-1, 1)\n",
    "y = 0.56*x**3 - 4*x**2 + 10*x - 7\n",
    "y += numpy.random.normal(0, 0.1, size=(1001, 1))"
   ]
  },
  {
   "cell_type": "code",
   "execution_count": 3,
   "metadata": {},
   "outputs": [
    {
     "data": {
      "image/png": "[encoded data removed]",
      "text/plain": [
       "<Figure size 432x288 with 1 Axes>"
      ]
     },
     "metadata": {
      "needs_background": "light"
     },
     "output_type": "display_data"
    }
   ],
   "source": [
    "# Plot\n",
    "plt.plot(x, y, 'k.')\n",
    "plt.xlabel('number of units (in thousands)'); plt.ylabel('cost (in thousands $)'); plt.show()"
   ]
  },
  {
   "cell_type": "markdown",
   "metadata": {
    "slideshow": {
     "slide_type": "slide"
    }
   },
   "source": [
    "## The Smallest Neural Network"
   ]
  },
  {
   "cell_type": "code",
   "execution_count": 4,
   "metadata": {
    "slideshow": {
     "slide_type": "-"
    }
   },
   "outputs": [
    {
     "name": "stdout",
     "output_type": "stream",
     "text": [
      "Model: \"sequential\"\n",
      "_________________________________________________________________\n",
      " Layer (type)                Output Shape              Param #   \n",
      "=================================================================\n",
      " flatten (Flatten)           (None, 1)                 0         \n",
      "                                                                 \n",
      " dense (Dense)               (None, 1)                 2         \n",
      "                                                                 \n",
      "=================================================================\n",
      "Total params: 2\n",
      "Trainable params: 2\n",
      "Non-trainable params: 0\n",
      "_________________________________________________________________\n"
     ]
    }
   ],
   "source": [
    "\"\"\"Build model\"\"\"\n",
    "model = tensorflow.keras.Sequential([\n",
    "    tensorflow.keras.layers.Flatten(input_shape=(1,)),\n",
    "    tensorflow.keras.layers.Dense(1, activation='linear'),\n",
    "])\n",
    "\n",
    "model.compile(\n",
    "    optimizer='Adam',\n",
    "    loss=tensorflow.keras.losses.MeanSquaredError(),\n",
    "    metrics=['MSE', 'MAE']\n",
    ")\n",
    "\n",
    "model.summary()"
   ]
  },
  {
   "cell_type": "code",
   "execution_count": 5,
   "metadata": {
    "scrolled": false,
    "slideshow": {
     "slide_type": "subslide"
    }
   },
   "outputs": [
    {
     "name": "stdout",
     "output_type": "stream",
     "text": [
      "Epoch 1/50\n",
      "32/32 [==============================] - 1s 7ms/step - loss: 0.5265 - MSE: 0.5265 - MAE: 0.6631 - val_loss: 0.4694 - val_MSE: 0.4694 - val_MAE: 0.6272\n",
      "Epoch 2/50\n",
      "32/32 [==============================] - 0s 4ms/step - loss: 0.4254 - MSE: 0.4254 - MAE: 0.5970 - val_loss: 0.3796 - val_MSE: 0.3796 - val_MAE: 0.5653\n",
      "Epoch 3/50\n",
      "32/32 [==============================] - 0s 3ms/step - loss: 0.3449 - MSE: 0.3449 - MAE: 0.5387 - val_loss: 0.3115 - val_MSE: 0.3115 - val_MAE: 0.5113\n",
      "Epoch 4/50\n",
      "32/32 [==============================] - 0s 3ms/step - loss: 0.2852 - MSE: 0.2852 - MAE: 0.4877 - val_loss: 0.2600 - val_MSE: 0.2600 - val_MAE: 0.4643\n",
      "Epoch 5/50\n",
      "32/32 [==============================] - 0s 3ms/step - loss: 0.2416 - MSE: 0.2416 - MAE: 0.4451 - val_loss: 0.2225 - val_MSE: 0.2225 - val_MAE: 0.4244\n",
      "Epoch 6/50\n",
      "32/32 [==============================] - 0s 3ms/step - loss: 0.2097 - MSE: 0.2097 - MAE: 0.4089 - val_loss: 0.1969 - val_MSE: 0.1969 - val_MAE: 0.3924\n",
      "Epoch 7/50\n",
      "32/32 [==============================] - 0s 3ms/step - loss: 0.1876 - MSE: 0.1876 - MAE: 0.3791 - val_loss: 0.1791 - val_MSE: 0.1791 - val_MAE: 0.3655\n",
      "Epoch 8/50\n",
      "32/32 [==============================] - 0s 4ms/step - loss: 0.1729 - MSE: 0.1729 - MAE: 0.3549 - val_loss: 0.1671 - val_MSE: 0.1671 - val_MAE: 0.3438\n",
      "Epoch 9/50\n",
      "32/32 [==============================] - 0s 4ms/step - loss: 0.1632 - MSE: 0.1632 - MAE: 0.3361 - val_loss: 0.1598 - val_MSE: 0.1598 - val_MAE: 0.3282\n",
      "Epoch 10/50\n",
      "32/32 [==============================] - 0s 3ms/step - loss: 0.1570 - MSE: 0.1570 - MAE: 0.3215 - val_loss: 0.1547 - val_MSE: 0.1547 - val_MAE: 0.3149\n",
      "Epoch 11/50\n",
      "32/32 [==============================] - 0s 3ms/step - loss: 0.1530 - MSE: 0.1530 - MAE: 0.3103 - val_loss: 0.1515 - val_MSE: 0.1515 - val_MAE: 0.3055\n",
      "Epoch 12/50\n",
      "32/32 [==============================] - 0s 3ms/step - loss: 0.1504 - MSE: 0.1504 - MAE: 0.3016 - val_loss: 0.1493 - val_MSE: 0.1493 - val_MAE: 0.2980\n",
      "Epoch 13/50\n",
      "32/32 [==============================] - 0s 3ms/step - loss: 0.1485 - MSE: 0.1485 - MAE: 0.2958 - val_loss: 0.1476 - val_MSE: 0.1476 - val_MAE: 0.2931\n",
      "Epoch 14/50\n",
      "32/32 [==============================] - 0s 3ms/step - loss: 0.1470 - MSE: 0.1470 - MAE: 0.2903 - val_loss: 0.1462 - val_MSE: 0.1462 - val_MAE: 0.2880\n",
      "Epoch 15/50\n",
      "32/32 [==============================] - 0s 3ms/step - loss: 0.1456 - MSE: 0.1456 - MAE: 0.2868 - val_loss: 0.1449 - val_MSE: 0.1449 - val_MAE: 0.2847\n",
      "Epoch 16/50\n",
      "32/32 [==============================] - 0s 3ms/step - loss: 0.1443 - MSE: 0.1443 - MAE: 0.2829 - val_loss: 0.1437 - val_MSE: 0.1437 - val_MAE: 0.2812\n",
      "Epoch 17/50\n",
      "32/32 [==============================] - 0s 3ms/step - loss: 0.1432 - MSE: 0.1432 - MAE: 0.2799 - val_loss: 0.1425 - val_MSE: 0.1425 - val_MAE: 0.2787\n",
      "Epoch 18/50\n",
      "32/32 [==============================] - 0s 4ms/step - loss: 0.1420 - MSE: 0.1420 - MAE: 0.2775 - val_loss: 0.1414 - val_MSE: 0.1414 - val_MAE: 0.2765\n",
      "Epoch 19/50\n",
      "32/32 [==============================] - 0s 4ms/step - loss: 0.1408 - MSE: 0.1408 - MAE: 0.2758 - val_loss: 0.1402 - val_MSE: 0.1402 - val_MAE: 0.2750\n",
      "Epoch 20/50\n",
      "32/32 [==============================] - 0s 4ms/step - loss: 0.1396 - MSE: 0.1396 - MAE: 0.2742 - val_loss: 0.1389 - val_MSE: 0.1389 - val_MAE: 0.2732\n",
      "Epoch 21/50\n",
      "32/32 [==============================] - 0s 3ms/step - loss: 0.1384 - MSE: 0.1384 - MAE: 0.2722 - val_loss: 0.1377 - val_MSE: 0.1377 - val_MAE: 0.2713\n",
      "Epoch 22/50\n",
      "32/32 [==============================] - 0s 3ms/step - loss: 0.1371 - MSE: 0.1371 - MAE: 0.2708 - val_loss: 0.1365 - val_MSE: 0.1365 - val_MAE: 0.2702\n",
      "Epoch 23/50\n",
      "32/32 [==============================] - 0s 3ms/step - loss: 0.1359 - MSE: 0.1359 - MAE: 0.2695 - val_loss: 0.1352 - val_MSE: 0.1352 - val_MAE: 0.2685\n",
      "Epoch 24/50\n",
      "32/32 [==============================] - 0s 3ms/step - loss: 0.1346 - MSE: 0.1346 - MAE: 0.2673 - val_loss: 0.1339 - val_MSE: 0.1339 - val_MAE: 0.2664\n",
      "Epoch 25/50\n",
      "32/32 [==============================] - 0s 4ms/step - loss: 0.1333 - MSE: 0.1333 - MAE: 0.2661 - val_loss: 0.1326 - val_MSE: 0.1326 - val_MAE: 0.2652\n",
      "Epoch 26/50\n",
      "32/32 [==============================] - 0s 4ms/step - loss: 0.1320 - MSE: 0.1320 - MAE: 0.2645 - val_loss: 0.1313 - val_MSE: 0.1313 - val_MAE: 0.2636\n",
      "Epoch 27/50\n",
      "32/32 [==============================] - 0s 3ms/step - loss: 0.1307 - MSE: 0.1307 - MAE: 0.2629 - val_loss: 0.1300 - val_MSE: 0.1300 - val_MAE: 0.2615\n",
      "Epoch 28/50\n",
      "32/32 [==============================] - 0s 3ms/step - loss: 0.1294 - MSE: 0.1294 - MAE: 0.2606 - val_loss: 0.1287 - val_MSE: 0.1287 - val_MAE: 0.2597\n",
      "Epoch 29/50\n",
      "32/32 [==============================] - 0s 3ms/step - loss: 0.1281 - MSE: 0.1281 - MAE: 0.2590 - val_loss: 0.1274 - val_MSE: 0.1274 - val_MAE: 0.2582\n",
      "Epoch 30/50\n",
      "32/32 [==============================] - 0s 3ms/step - loss: 0.1268 - MSE: 0.1268 - MAE: 0.2579 - val_loss: 0.1261 - val_MSE: 0.1261 - val_MAE: 0.2570\n",
      "Epoch 31/50\n",
      "32/32 [==============================] - 0s 3ms/step - loss: 0.1254 - MSE: 0.1254 - MAE: 0.2562 - val_loss: 0.1247 - val_MSE: 0.1247 - val_MAE: 0.2553\n",
      "Epoch 32/50\n",
      "32/32 [==============================] - 0s 3ms/step - loss: 0.1242 - MSE: 0.1242 - MAE: 0.2556 - val_loss: 0.1234 - val_MSE: 0.1234 - val_MAE: 0.2544\n",
      "Epoch 33/50\n",
      "32/32 [==============================] - 0s 4ms/step - loss: 0.1227 - MSE: 0.1227 - MAE: 0.2532 - val_loss: 0.1220 - val_MSE: 0.1220 - val_MAE: 0.2524\n",
      "Epoch 34/50\n",
      "32/32 [==============================] - 0s 3ms/step - loss: 0.1214 - MSE: 0.1214 - MAE: 0.2509 - val_loss: 0.1207 - val_MSE: 0.1207 - val_MAE: 0.2500\n",
      "Epoch 35/50\n",
      "32/32 [==============================] - 0s 3ms/step - loss: 0.1201 - MSE: 0.1201 - MAE: 0.2495 - val_loss: 0.1194 - val_MSE: 0.1194 - val_MAE: 0.2488\n",
      "Epoch 36/50\n",
      "32/32 [==============================] - 0s 4ms/step - loss: 0.1187 - MSE: 0.1187 - MAE: 0.2479 - val_loss: 0.1180 - val_MSE: 0.1180 - val_MAE: 0.2471\n",
      "Epoch 37/50\n",
      "32/32 [==============================] - 0s 4ms/step - loss: 0.1174 - MSE: 0.1174 - MAE: 0.2467 - val_loss: 0.1167 - val_MSE: 0.1167 - val_MAE: 0.2459\n",
      "Epoch 38/50\n",
      "32/32 [==============================] - 0s 3ms/step - loss: 0.1161 - MSE: 0.1161 - MAE: 0.2450 - val_loss: 0.1153 - val_MSE: 0.1153 - val_MAE: 0.2437\n",
      "Epoch 39/50\n",
      "32/32 [==============================] - 0s 3ms/step - loss: 0.1147 - MSE: 0.1147 - MAE: 0.2429 - val_loss: 0.1140 - val_MSE: 0.1140 - val_MAE: 0.2419\n",
      "Epoch 40/50\n",
      "32/32 [==============================] - 0s 3ms/step - loss: 0.1134 - MSE: 0.1134 - MAE: 0.2409 - val_loss: 0.1127 - val_MSE: 0.1127 - val_MAE: 0.2397\n",
      "Epoch 41/50\n",
      "32/32 [==============================] - 0s 3ms/step - loss: 0.1121 - MSE: 0.1121 - MAE: 0.2398 - val_loss: 0.1114 - val_MSE: 0.1114 - val_MAE: 0.2388\n",
      "Epoch 42/50\n",
      "32/32 [==============================] - 0s 3ms/step - loss: 0.1108 - MSE: 0.1108 - MAE: 0.2385 - val_loss: 0.1101 - val_MSE: 0.1101 - val_MAE: 0.2375\n",
      "Epoch 43/50\n",
      "32/32 [==============================] - 0s 3ms/step - loss: 0.1095 - MSE: 0.1095 - MAE: 0.2365 - val_loss: 0.1088 - val_MSE: 0.1088 - val_MAE: 0.2354\n",
      "Epoch 44/50\n",
      "32/32 [==============================] - 0s 3ms/step - loss: 0.1082 - MSE: 0.1082 - MAE: 0.2346 - val_loss: 0.1075 - val_MSE: 0.1075 - val_MAE: 0.2341\n",
      "Epoch 45/50\n",
      "32/32 [==============================] - 0s 3ms/step - loss: 0.1069 - MSE: 0.1069 - MAE: 0.2335 - val_loss: 0.1062 - val_MSE: 0.1062 - val_MAE: 0.2328\n",
      "Epoch 46/50\n",
      "32/32 [==============================] - 0s 3ms/step - loss: 0.1056 - MSE: 0.1056 - MAE: 0.2319 - val_loss: 0.1049 - val_MSE: 0.1049 - val_MAE: 0.2310\n",
      "Epoch 47/50\n",
      "32/32 [==============================] - 0s 4ms/step - loss: 0.1044 - MSE: 0.1044 - MAE: 0.2302 - val_loss: 0.1036 - val_MSE: 0.1036 - val_MAE: 0.2294\n",
      "Epoch 48/50\n",
      "32/32 [==============================] - 0s 4ms/step - loss: 0.1031 - MSE: 0.1031 - MAE: 0.2288 - val_loss: 0.1024 - val_MSE: 0.1024 - val_MAE: 0.2277\n",
      "Epoch 49/50\n",
      "32/32 [==============================] - 0s 3ms/step - loss: 0.1019 - MSE: 0.1019 - MAE: 0.2274 - val_loss: 0.1012 - val_MSE: 0.1012 - val_MAE: 0.2266\n",
      "Epoch 50/50\n",
      "32/32 [==============================] - 0s 3ms/step - loss: 0.1007 - MSE: 0.1007 - MAE: 0.2252 - val_loss: 0.1000 - val_MSE: 0.1000 - val_MAE: 0.2243\n"
     ]
    },
    {
     "data": {
      "text/plain": [
       "<keras.callbacks.History at 0x7583b554e860>"
      ]
     },
     "execution_count": 5,
     "metadata": {},
     "output_type": "execute_result"
    }
   ],
   "source": [
    "\"\"\"Train\"\"\"\n",
    "model.fit(x, y, epochs=50, validation_data=(x,  y))"
   ]
  },
  {
   "cell_type": "code",
   "execution_count": 6,
   "metadata": {
    "slideshow": {
     "slide_type": "subslide"
    }
   },
   "outputs": [
    {
     "data": {
      "text/plain": [
       "[array([[0.7192341]], dtype=float32), array([-0.14905374], dtype=float32)]"
      ]
     },
     "execution_count": 6,
     "metadata": {},
     "output_type": "execute_result"
    }
   ],
   "source": [
    "model.get_weights()"
   ]
  },
  {
   "cell_type": "code",
   "execution_count": 7,
   "metadata": {
    "scrolled": false,
    "slideshow": {
     "slide_type": "-"
    }
   },
   "outputs": [
    {
     "name": "stdout",
     "output_type": "stream",
     "text": [
      "32/32 - 0s - loss: 0.1000 - MSE: 0.1000 - MAE: 0.2243 - 43ms/epoch - 1ms/step\n"
     ]
    },
    {
     "data": {
      "text/plain": [
       "[0.10000553727149963, 0.10000553727149963, 0.2242598682641983]"
      ]
     },
     "execution_count": 7,
     "metadata": {},
     "output_type": "execute_result"
    }
   ],
   "source": [
    "\"\"\"Evaluate\"\"\"\n",
    "model.evaluate(x,  y, verbose=2)"
   ]
  },
  {
   "cell_type": "code",
   "execution_count": 8,
   "metadata": {
    "slideshow": {
     "slide_type": "-"
    }
   },
   "outputs": [
    {
     "data": {
      "image/png": "[encoded data removed]",
      "text/plain": [
       "<Figure size 432x288 with 1 Axes>"
      ]
     },
     "metadata": {
      "needs_background": "light"
     },
     "output_type": "display_data"
    }
   ],
   "source": [
    "# Plot\n",
    "plt.plot(x, y, 'k.')\n",
    "plt.plot(x, model.predict(x), 'ro')\n",
    "plt.xlabel('number of units (in thousands)'); plt.ylabel('cost (in thousands $)'); plt.show()"
   ]
  },
  {
   "cell_type": "markdown",
   "metadata": {
    "slideshow": {
     "slide_type": "slide"
    }
   },
   "source": [
    "## Larger Neural Network"
   ]
  },
  {
   "cell_type": "code",
   "execution_count": 9,
   "metadata": {},
   "outputs": [
    {
     "name": "stdout",
     "output_type": "stream",
     "text": [
      "Model: \"sequential_1\"\n",
      "_________________________________________________________________\n",
      " Layer (type)                Output Shape              Param #   \n",
      "=================================================================\n",
      " flatten_1 (Flatten)         (None, 1)                 0         \n",
      "                                                                 \n",
      " dense_1 (Dense)             (None, 300)               600       \n",
      "                                                                 \n",
      " dense_2 (Dense)             (None, 300)               90300     \n",
      "                                                                 \n",
      " dense_3 (Dense)             (None, 1)                 301       \n",
      "                                                                 \n",
      "=================================================================\n",
      "Total params: 91,201\n",
      "Trainable params: 91,201\n",
      "Non-trainable params: 0\n",
      "_________________________________________________________________\n"
     ]
    }
   ],
   "source": [
    "\"\"\"Build model\"\"\"\n",
    "model = tensorflow.keras.Sequential([\n",
    "    tensorflow.keras.layers.Flatten(input_shape=(1,)),\n",
    "    tensorflow.keras.layers.Dense(300, activation='tanh'),\n",
    "    tensorflow.keras.layers.Dense(300, activation='tanh'),\n",
    "    tensorflow.keras.layers.Dense(1, activation='sigmoid'),\n",
    "])\n",
    "\n",
    "model.compile(\n",
    "    optimizer='Adam',\n",
    "    loss=tensorflow.keras.losses.MeanSquaredError(),\n",
    "    metrics=['MSE', 'MAE']\n",
    ")\n",
    "\n",
    "model.summary()"
   ]
  },
  {
   "cell_type": "code",
   "execution_count": 10,
   "metadata": {
    "slideshow": {
     "slide_type": "subslide"
    }
   },
   "outputs": [
    {
     "name": "stdout",
     "output_type": "stream",
     "text": [
      "Epoch 1/50\n",
      "32/32 [==============================] - 0s 6ms/step - loss: 0.4441 - MSE: 0.4441 - MAE: 0.5857 - val_loss: 0.4240 - val_MSE: 0.4240 - val_MAE: 0.5702\n",
      "Epoch 2/50\n",
      "32/32 [==============================] - 0s 4ms/step - loss: 0.4174 - MSE: 0.4174 - MAE: 0.5665 - val_loss: 0.3980 - val_MSE: 0.3980 - val_MAE: 0.5563\n",
      "Epoch 3/50\n",
      "32/32 [==============================] - 0s 5ms/step - loss: 0.3721 - MSE: 0.3721 - MAE: 0.5427 - val_loss: 0.3361 - val_MSE: 0.3361 - val_MAE: 0.5160\n",
      "Epoch 4/50\n",
      "32/32 [==============================] - 0s 5ms/step - loss: 0.3015 - MSE: 0.3015 - MAE: 0.4798 - val_loss: 0.2747 - val_MSE: 0.2747 - val_MAE: 0.4454\n",
      "Epoch 5/50\n",
      "32/32 [==============================] - 0s 4ms/step - loss: 0.2684 - MSE: 0.2684 - MAE: 0.4339 - val_loss: 0.2640 - val_MSE: 0.2640 - val_MAE: 0.4254\n",
      "Epoch 6/50\n",
      "32/32 [==============================] - 0s 4ms/step - loss: 0.2631 - MSE: 0.2631 - MAE: 0.4233 - val_loss: 0.2618 - val_MSE: 0.2618 - val_MAE: 0.4203\n",
      "Epoch 7/50\n",
      "32/32 [==============================] - 0s 4ms/step - loss: 0.2613 - MSE: 0.2613 - MAE: 0.4198 - val_loss: 0.2609 - val_MSE: 0.2609 - val_MAE: 0.4186\n",
      "Epoch 8/50\n",
      "32/32 [==============================] - 0s 4ms/step - loss: 0.2609 - MSE: 0.2609 - MAE: 0.4186 - val_loss: 0.2613 - val_MSE: 0.2613 - val_MAE: 0.4197\n",
      "Epoch 9/50\n",
      "32/32 [==============================] - 0s 4ms/step - loss: 0.2610 - MSE: 0.2610 - MAE: 0.4190 - val_loss: 0.2604 - val_MSE: 0.2604 - val_MAE: 0.4173\n",
      "Epoch 10/50\n",
      "32/32 [==============================] - 0s 4ms/step - loss: 0.2606 - MSE: 0.2606 - MAE: 0.4182 - val_loss: 0.2605 - val_MSE: 0.2605 - val_MAE: 0.4174\n",
      "Epoch 11/50\n",
      "32/32 [==============================] - 0s 4ms/step - loss: 0.2608 - MSE: 0.2608 - MAE: 0.4188 - val_loss: 0.2604 - val_MSE: 0.2604 - val_MAE: 0.4174\n",
      "Epoch 12/50\n",
      "32/32 [==============================] - 0s 5ms/step - loss: 0.2606 - MSE: 0.2606 - MAE: 0.4180 - val_loss: 0.2603 - val_MSE: 0.2603 - val_MAE: 0.4174\n",
      "Epoch 13/50\n",
      "32/32 [==============================] - 0s 4ms/step - loss: 0.2604 - MSE: 0.2604 - MAE: 0.4177 - val_loss: 0.2607 - val_MSE: 0.2607 - val_MAE: 0.4192\n",
      "Epoch 14/50\n",
      "32/32 [==============================] - 0s 4ms/step - loss: 0.2608 - MSE: 0.2608 - MAE: 0.4192 - val_loss: 0.2603 - val_MSE: 0.2603 - val_MAE: 0.4177\n",
      "Epoch 15/50\n",
      "32/32 [==============================] - 0s 4ms/step - loss: 0.2605 - MSE: 0.2605 - MAE: 0.4182 - val_loss: 0.2603 - val_MSE: 0.2603 - val_MAE: 0.4174\n",
      "Epoch 16/50\n",
      "32/32 [==============================] - 0s 4ms/step - loss: 0.2608 - MSE: 0.2608 - MAE: 0.4192 - val_loss: 0.2603 - val_MSE: 0.2603 - val_MAE: 0.4177\n",
      "Epoch 17/50\n",
      "32/32 [==============================] - 0s 4ms/step - loss: 0.2605 - MSE: 0.2605 - MAE: 0.4181 - val_loss: 0.2613 - val_MSE: 0.2613 - val_MAE: 0.4204\n",
      "Epoch 18/50\n",
      "32/32 [==============================] - 0s 4ms/step - loss: 0.2608 - MSE: 0.2608 - MAE: 0.4185 - val_loss: 0.2603 - val_MSE: 0.2603 - val_MAE: 0.4174\n",
      "Epoch 19/50\n",
      "32/32 [==============================] - 0s 4ms/step - loss: 0.2615 - MSE: 0.2615 - MAE: 0.4215 - val_loss: 0.2613 - val_MSE: 0.2613 - val_MAE: 0.4202\n",
      "Epoch 20/50\n",
      "32/32 [==============================] - 0s 4ms/step - loss: 0.2606 - MSE: 0.2606 - MAE: 0.4185 - val_loss: 0.2604 - val_MSE: 0.2604 - val_MAE: 0.4176\n",
      "Epoch 21/50\n",
      "32/32 [==============================] - 0s 5ms/step - loss: 0.2607 - MSE: 0.2607 - MAE: 0.4189 - val_loss: 0.2607 - val_MSE: 0.2607 - val_MAE: 0.4185\n",
      "Epoch 22/50\n",
      "32/32 [==============================] - 0s 4ms/step - loss: 0.2606 - MSE: 0.2606 - MAE: 0.4183 - val_loss: 0.2604 - val_MSE: 0.2604 - val_MAE: 0.4177\n",
      "Epoch 23/50\n",
      "32/32 [==============================] - 0s 4ms/step - loss: 0.2609 - MSE: 0.2609 - MAE: 0.4190 - val_loss: 0.2609 - val_MSE: 0.2609 - val_MAE: 0.4191\n",
      "Epoch 24/50\n",
      "32/32 [==============================] - 0s 5ms/step - loss: 0.2613 - MSE: 0.2613 - MAE: 0.4213 - val_loss: 0.2610 - val_MSE: 0.2610 - val_MAE: 0.4196\n",
      "Epoch 25/50\n",
      "32/32 [==============================] - 0s 4ms/step - loss: 0.2605 - MSE: 0.2605 - MAE: 0.4182 - val_loss: 0.2603 - val_MSE: 0.2603 - val_MAE: 0.4174\n",
      "Epoch 26/50\n",
      "32/32 [==============================] - 0s 4ms/step - loss: 0.2606 - MSE: 0.2606 - MAE: 0.4183 - val_loss: 0.2614 - val_MSE: 0.2614 - val_MAE: 0.4215\n",
      "Epoch 27/50\n",
      "32/32 [==============================] - 0s 4ms/step - loss: 0.2609 - MSE: 0.2609 - MAE: 0.4192 - val_loss: 0.2603 - val_MSE: 0.2603 - val_MAE: 0.4180\n",
      "Epoch 28/50\n",
      "32/32 [==============================] - 0s 4ms/step - loss: 0.2608 - MSE: 0.2608 - MAE: 0.4194 - val_loss: 0.2608 - val_MSE: 0.2608 - val_MAE: 0.4196\n",
      "Epoch 29/50\n",
      "32/32 [==============================] - 0s 4ms/step - loss: 0.2608 - MSE: 0.2608 - MAE: 0.4196 - val_loss: 0.2605 - val_MSE: 0.2605 - val_MAE: 0.4179\n",
      "Epoch 30/50\n",
      "32/32 [==============================] - 0s 5ms/step - loss: 0.2605 - MSE: 0.2605 - MAE: 0.4179 - val_loss: 0.2608 - val_MSE: 0.2608 - val_MAE: 0.4189\n",
      "Epoch 31/50\n",
      "32/32 [==============================] - 0s 5ms/step - loss: 0.2611 - MSE: 0.2611 - MAE: 0.4203 - val_loss: 0.2604 - val_MSE: 0.2604 - val_MAE: 0.4176\n",
      "Epoch 32/50\n",
      "32/32 [==============================] - 0s 4ms/step - loss: 0.2614 - MSE: 0.2614 - MAE: 0.4208 - val_loss: 0.2604 - val_MSE: 0.2604 - val_MAE: 0.4178\n",
      "Epoch 33/50\n",
      "32/32 [==============================] - 0s 4ms/step - loss: 0.2604 - MSE: 0.2604 - MAE: 0.4180 - val_loss: 0.2606 - val_MSE: 0.2606 - val_MAE: 0.4191\n",
      "Epoch 34/50\n",
      "32/32 [==============================] - 0s 4ms/step - loss: 0.2605 - MSE: 0.2605 - MAE: 0.4184 - val_loss: 0.2603 - val_MSE: 0.2603 - val_MAE: 0.4175\n",
      "Epoch 35/50\n",
      "32/32 [==============================] - 0s 4ms/step - loss: 0.2607 - MSE: 0.2607 - MAE: 0.4188 - val_loss: 0.2603 - val_MSE: 0.2603 - val_MAE: 0.4175\n",
      "Epoch 36/50\n",
      "32/32 [==============================] - 0s 4ms/step - loss: 0.2604 - MSE: 0.2604 - MAE: 0.4178 - val_loss: 0.2604 - val_MSE: 0.2604 - val_MAE: 0.4177\n",
      "Epoch 37/50\n",
      "32/32 [==============================] - 0s 4ms/step - loss: 0.2607 - MSE: 0.2607 - MAE: 0.4192 - val_loss: 0.2603 - val_MSE: 0.2603 - val_MAE: 0.4174\n",
      "Epoch 38/50\n",
      "32/32 [==============================] - 0s 5ms/step - loss: 0.2612 - MSE: 0.2612 - MAE: 0.4205 - val_loss: 0.2629 - val_MSE: 0.2629 - val_MAE: 0.4254\n",
      "Epoch 39/50\n",
      "32/32 [==============================] - 0s 4ms/step - loss: 0.2607 - MSE: 0.2607 - MAE: 0.4185 - val_loss: 0.2603 - val_MSE: 0.2603 - val_MAE: 0.4176\n",
      "Epoch 40/50\n",
      "32/32 [==============================] - 0s 4ms/step - loss: 0.2606 - MSE: 0.2606 - MAE: 0.4182 - val_loss: 0.2603 - val_MSE: 0.2603 - val_MAE: 0.4175\n",
      "Epoch 41/50\n",
      "32/32 [==============================] - 0s 4ms/step - loss: 0.2603 - MSE: 0.2603 - MAE: 0.4177 - val_loss: 0.2603 - val_MSE: 0.2603 - val_MAE: 0.4176\n",
      "Epoch 42/50\n",
      "32/32 [==============================] - 0s 4ms/step - loss: 0.2603 - MSE: 0.2603 - MAE: 0.4175 - val_loss: 0.2605 - val_MSE: 0.2605 - val_MAE: 0.4185\n",
      "Epoch 43/50\n",
      "32/32 [==============================] - 0s 4ms/step - loss: 0.2606 - MSE: 0.2606 - MAE: 0.4184 - val_loss: 0.2611 - val_MSE: 0.2611 - val_MAE: 0.4204\n",
      "Epoch 44/50\n",
      "32/32 [==============================] - 0s 4ms/step - loss: 0.2609 - MSE: 0.2609 - MAE: 0.4194 - val_loss: 0.2610 - val_MSE: 0.2610 - val_MAE: 0.4204\n",
      "Epoch 45/50\n",
      "32/32 [==============================] - 0s 4ms/step - loss: 0.2605 - MSE: 0.2605 - MAE: 0.4181 - val_loss: 0.2603 - val_MSE: 0.2603 - val_MAE: 0.4175\n",
      "Epoch 46/50\n",
      "32/32 [==============================] - 0s 4ms/step - loss: 0.2605 - MSE: 0.2605 - MAE: 0.4182 - val_loss: 0.2605 - val_MSE: 0.2605 - val_MAE: 0.4187\n",
      "Epoch 47/50\n",
      "32/32 [==============================] - 0s 4ms/step - loss: 0.2606 - MSE: 0.2606 - MAE: 0.4188 - val_loss: 0.2605 - val_MSE: 0.2605 - val_MAE: 0.4179\n",
      "Epoch 48/50\n",
      "32/32 [==============================] - 0s 5ms/step - loss: 0.2605 - MSE: 0.2605 - MAE: 0.4185 - val_loss: 0.2605 - val_MSE: 0.2605 - val_MAE: 0.4179\n",
      "Epoch 49/50\n",
      "32/32 [==============================] - 0s 5ms/step - loss: 0.2606 - MSE: 0.2606 - MAE: 0.4189 - val_loss: 0.2602 - val_MSE: 0.2602 - val_MAE: 0.4174\n",
      "Epoch 50/50\n",
      "32/32 [==============================] - 0s 4ms/step - loss: 0.2607 - MSE: 0.2607 - MAE: 0.4188 - val_loss: 0.2603 - val_MSE: 0.2603 - val_MAE: 0.4175\n"
     ]
    },
    {
     "data": {
      "text/plain": [
       "<keras.callbacks.History at 0x7583b45dadd0>"
      ]
     },
     "execution_count": 10,
     "metadata": {},
     "output_type": "execute_result"
    }
   ],
   "source": [
    "\"\"\"Train\"\"\"\n",
    "model.fit(x, y, epochs=50, validation_data=(x,  y))"
   ]
  },
  {
   "cell_type": "code",
   "execution_count": 11,
   "metadata": {
    "slideshow": {
     "slide_type": "subslide"
    }
   },
   "outputs": [
    {
     "data": {
      "image/png": "[encoded data removed]",
      "text/plain": [
       "<Figure size 432x288 with 1 Axes>"
      ]
     },
     "metadata": {
      "needs_background": "light"
     },
     "output_type": "display_data"
    }
   ],
   "source": [
    "# Plot results\n",
    "plt.plot(x, y, 'k.')\n",
    "plt.plot(x, model.predict(x), 'ro')\n",
    "plt.xlabel('number of units (in thousands)'); plt.ylabel('cost (in thousands $)'); plt.show()"
   ]
  }
 ],
 "metadata": {
  "celltoolbar": "Slideshow",
  "jupytext": {
   "formats": "ipynb"
  },
  "kernelspec": {
   "display_name": "Python 3 (ipykernel)",
   "language": "python",
   "name": "python3"
  },
  "language_info": {
   "codemirror_mode": {
    "name": "ipython",
    "version": 3
   },
   "file_extension": ".py",
   "mimetype": "text/x-python",
   "name": "python",
   "nbconvert_exporter": "python",
   "pygments_lexer": "ipython3",
   "version": "3.10.12"
  },
  "rise": {
   "autolaunch": false,
   "enable_chalkboard": true,
   "footer": "",
   "header": "<h3>PHYS 304</h3>",
   "scroll": true
  }
 },
 "nbformat": 4,
 "nbformat_minor": 2
}
