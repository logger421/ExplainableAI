{
 "cells": [
  {
   "cell_type": "markdown",
   "metadata": {
    "collapsed": true,
    "slideshow": {
     "slide_type": "slide"
    }
   },
   "source": [
    "# XG325: Explainable Artificial Intelligence\n",
    "    \n",
    "## Minimal Solution\n",
    "\n",
    "**Week 04 | Lecture 02**\n",
    "\n",
    "_Saturday, March 29, 2025_\n",
    "\n",
    "Presented by Dr. Marcin Abram"
   ]
  },
  {
   "cell_type": "code",
   "metadata": {
    "slideshow": {
     "slide_type": "subslide"
    },
    "ExecuteTime": {
     "end_time": "2025-03-29T10:53:32.935878Z",
     "start_time": "2025-03-29T10:53:32.683971Z"
    }
   },
   "source": [
    "import numpy\n",
    "import pandas\n",
    "import sklearn.linear_model\n",
    "import sklearn.metrics\n",
    "import sklearn.neighbors\n",
    "import sklearn.svm\n",
    "import pandas.plotting\n",
    "\n",
    "numpy.set_printoptions(suppress=True)\n",
    "numpy.set_printoptions(threshold=10)\n",
    "\n",
    "import matplotlib.pyplot as plt\n",
    "%matplotlib inline\n",
    "\n",
    "from ipywidgets import interact, interactive, fixed, interact_manual"
   ],
   "outputs": [],
   "execution_count": 1
  },
  {
   "cell_type": "markdown",
   "metadata": {
    "slideshow": {
     "slide_type": "slide"
    }
   },
   "source": [
    "### Load and Explore the Dataset"
   ]
  },
  {
   "cell_type": "code",
   "metadata": {
    "ExecuteTime": {
     "end_time": "2025-03-29T10:53:32.962061Z",
     "start_time": "2025-03-29T10:53:32.939085Z"
    }
   },
   "source": [
    "# Load dataset\n",
    "data = pandas.read_csv('./used_car_dataset.csv')\n",
    "data"
   ],
   "outputs": [
    {
     "data": {
      "text/plain": [
       "        price    year manufacturer  condition    cylinders fuel  odometer  \\\n",
       "0     21978.0  2016.0         ford   like new  6 cylinders  gas   80813.0   \n",
       "1      4185.0  2008.0         ford       good  8 cylinders  gas  201800.0   \n",
       "2      7693.0  2002.0         ford  excellent  6 cylinders  gas  145000.0   \n",
       "3     15778.0  2016.0         ford  excellent  4 cylinders  gas   50103.0   \n",
       "4     10520.0  2005.0         ford       good  8 cylinders  gas  207663.0   \n",
       "...       ...     ...          ...        ...          ...  ...       ...   \n",
       "9992   4020.0  2007.0         ford  excellent  4 cylinders  gas  133000.0   \n",
       "9993   9960.0  2004.0         ford  excellent  6 cylinders  gas  104392.0   \n",
       "9994  45754.0  2016.0         ford  excellent  6 cylinders  gas   57387.0   \n",
       "9995  20599.0  2017.0         ford  excellent  4 cylinders  gas   31381.0   \n",
       "9996  12149.0  2013.0         ford       good  6 cylinders  gas  131000.0   \n",
       "\n",
       "     transmission    type paint_color    F1        F2        F3 F4  \n",
       "0       automatic     SUV       black   138  2.472286  0.059031  b  \n",
       "1       automatic     SUV       white   415  2.285245  0.046328  c  \n",
       "2       automatic  pickup       white   535  1.861461  0.158554  b  \n",
       "3       automatic   sedan       white  3435  2.331671  0.213665  c  \n",
       "4       automatic   truck       white  1212  2.061082  0.388724  b  \n",
       "...           ...     ...         ...   ...       ...       ... ..  \n",
       "9992    automatic   sedan         red    46  2.212302  0.006381  b  \n",
       "9993    automatic  pickup      silver  1539  2.075114  0.245105  c  \n",
       "9994    automatic   truck       white  1871  2.174796  0.145092  c  \n",
       "9995    automatic     SUV      silver  1686  2.214853 -0.007579  b  \n",
       "9996    automatic     SUV        blue   659  2.180665  0.165511  a  \n",
       "\n",
       "[9997 rows x 14 columns]"
      ],
      "text/html": [
       "<div>\n",
       "<style scoped>\n",
       "    .dataframe tbody tr th:only-of-type {\n",
       "        vertical-align: middle;\n",
       "    }\n",
       "\n",
       "    .dataframe tbody tr th {\n",
       "        vertical-align: top;\n",
       "    }\n",
       "\n",
       "    .dataframe thead th {\n",
       "        text-align: right;\n",
       "    }\n",
       "</style>\n",
       "<table border=\"1\" class=\"dataframe\">\n",
       "  <thead>\n",
       "    <tr style=\"text-align: right;\">\n",
       "      <th></th>\n",
       "      <th>price</th>\n",
       "      <th>year</th>\n",
       "      <th>manufacturer</th>\n",
       "      <th>condition</th>\n",
       "      <th>cylinders</th>\n",
       "      <th>fuel</th>\n",
       "      <th>odometer</th>\n",
       "      <th>transmission</th>\n",
       "      <th>type</th>\n",
       "      <th>paint_color</th>\n",
       "      <th>F1</th>\n",
       "      <th>F2</th>\n",
       "      <th>F3</th>\n",
       "      <th>F4</th>\n",
       "    </tr>\n",
       "  </thead>\n",
       "  <tbody>\n",
       "    <tr>\n",
       "      <th>0</th>\n",
       "      <td>21978.0</td>\n",
       "      <td>2016.0</td>\n",
       "      <td>ford</td>\n",
       "      <td>like new</td>\n",
       "      <td>6 cylinders</td>\n",
       "      <td>gas</td>\n",
       "      <td>80813.0</td>\n",
       "      <td>automatic</td>\n",
       "      <td>SUV</td>\n",
       "      <td>black</td>\n",
       "      <td>138</td>\n",
       "      <td>2.472286</td>\n",
       "      <td>0.059031</td>\n",
       "      <td>b</td>\n",
       "    </tr>\n",
       "    <tr>\n",
       "      <th>1</th>\n",
       "      <td>4185.0</td>\n",
       "      <td>2008.0</td>\n",
       "      <td>ford</td>\n",
       "      <td>good</td>\n",
       "      <td>8 cylinders</td>\n",
       "      <td>gas</td>\n",
       "      <td>201800.0</td>\n",
       "      <td>automatic</td>\n",
       "      <td>SUV</td>\n",
       "      <td>white</td>\n",
       "      <td>415</td>\n",
       "      <td>2.285245</td>\n",
       "      <td>0.046328</td>\n",
       "      <td>c</td>\n",
       "    </tr>\n",
       "    <tr>\n",
       "      <th>2</th>\n",
       "      <td>7693.0</td>\n",
       "      <td>2002.0</td>\n",
       "      <td>ford</td>\n",
       "      <td>excellent</td>\n",
       "      <td>6 cylinders</td>\n",
       "      <td>gas</td>\n",
       "      <td>145000.0</td>\n",
       "      <td>automatic</td>\n",
       "      <td>pickup</td>\n",
       "      <td>white</td>\n",
       "      <td>535</td>\n",
       "      <td>1.861461</td>\n",
       "      <td>0.158554</td>\n",
       "      <td>b</td>\n",
       "    </tr>\n",
       "    <tr>\n",
       "      <th>3</th>\n",
       "      <td>15778.0</td>\n",
       "      <td>2016.0</td>\n",
       "      <td>ford</td>\n",
       "      <td>excellent</td>\n",
       "      <td>4 cylinders</td>\n",
       "      <td>gas</td>\n",
       "      <td>50103.0</td>\n",
       "      <td>automatic</td>\n",
       "      <td>sedan</td>\n",
       "      <td>white</td>\n",
       "      <td>3435</td>\n",
       "      <td>2.331671</td>\n",
       "      <td>0.213665</td>\n",
       "      <td>c</td>\n",
       "    </tr>\n",
       "    <tr>\n",
       "      <th>4</th>\n",
       "      <td>10520.0</td>\n",
       "      <td>2005.0</td>\n",
       "      <td>ford</td>\n",
       "      <td>good</td>\n",
       "      <td>8 cylinders</td>\n",
       "      <td>gas</td>\n",
       "      <td>207663.0</td>\n",
       "      <td>automatic</td>\n",
       "      <td>truck</td>\n",
       "      <td>white</td>\n",
       "      <td>1212</td>\n",
       "      <td>2.061082</td>\n",
       "      <td>0.388724</td>\n",
       "      <td>b</td>\n",
       "    </tr>\n",
       "    <tr>\n",
       "      <th>...</th>\n",
       "      <td>...</td>\n",
       "      <td>...</td>\n",
       "      <td>...</td>\n",
       "      <td>...</td>\n",
       "      <td>...</td>\n",
       "      <td>...</td>\n",
       "      <td>...</td>\n",
       "      <td>...</td>\n",
       "      <td>...</td>\n",
       "      <td>...</td>\n",
       "      <td>...</td>\n",
       "      <td>...</td>\n",
       "      <td>...</td>\n",
       "      <td>...</td>\n",
       "    </tr>\n",
       "    <tr>\n",
       "      <th>9992</th>\n",
       "      <td>4020.0</td>\n",
       "      <td>2007.0</td>\n",
       "      <td>ford</td>\n",
       "      <td>excellent</td>\n",
       "      <td>4 cylinders</td>\n",
       "      <td>gas</td>\n",
       "      <td>133000.0</td>\n",
       "      <td>automatic</td>\n",
       "      <td>sedan</td>\n",
       "      <td>red</td>\n",
       "      <td>46</td>\n",
       "      <td>2.212302</td>\n",
       "      <td>0.006381</td>\n",
       "      <td>b</td>\n",
       "    </tr>\n",
       "    <tr>\n",
       "      <th>9993</th>\n",
       "      <td>9960.0</td>\n",
       "      <td>2004.0</td>\n",
       "      <td>ford</td>\n",
       "      <td>excellent</td>\n",
       "      <td>6 cylinders</td>\n",
       "      <td>gas</td>\n",
       "      <td>104392.0</td>\n",
       "      <td>automatic</td>\n",
       "      <td>pickup</td>\n",
       "      <td>silver</td>\n",
       "      <td>1539</td>\n",
       "      <td>2.075114</td>\n",
       "      <td>0.245105</td>\n",
       "      <td>c</td>\n",
       "    </tr>\n",
       "    <tr>\n",
       "      <th>9994</th>\n",
       "      <td>45754.0</td>\n",
       "      <td>2016.0</td>\n",
       "      <td>ford</td>\n",
       "      <td>excellent</td>\n",
       "      <td>6 cylinders</td>\n",
       "      <td>gas</td>\n",
       "      <td>57387.0</td>\n",
       "      <td>automatic</td>\n",
       "      <td>truck</td>\n",
       "      <td>white</td>\n",
       "      <td>1871</td>\n",
       "      <td>2.174796</td>\n",
       "      <td>0.145092</td>\n",
       "      <td>c</td>\n",
       "    </tr>\n",
       "    <tr>\n",
       "      <th>9995</th>\n",
       "      <td>20599.0</td>\n",
       "      <td>2017.0</td>\n",
       "      <td>ford</td>\n",
       "      <td>excellent</td>\n",
       "      <td>4 cylinders</td>\n",
       "      <td>gas</td>\n",
       "      <td>31381.0</td>\n",
       "      <td>automatic</td>\n",
       "      <td>SUV</td>\n",
       "      <td>silver</td>\n",
       "      <td>1686</td>\n",
       "      <td>2.214853</td>\n",
       "      <td>-0.007579</td>\n",
       "      <td>b</td>\n",
       "    </tr>\n",
       "    <tr>\n",
       "      <th>9996</th>\n",
       "      <td>12149.0</td>\n",
       "      <td>2013.0</td>\n",
       "      <td>ford</td>\n",
       "      <td>good</td>\n",
       "      <td>6 cylinders</td>\n",
       "      <td>gas</td>\n",
       "      <td>131000.0</td>\n",
       "      <td>automatic</td>\n",
       "      <td>SUV</td>\n",
       "      <td>blue</td>\n",
       "      <td>659</td>\n",
       "      <td>2.180665</td>\n",
       "      <td>0.165511</td>\n",
       "      <td>a</td>\n",
       "    </tr>\n",
       "  </tbody>\n",
       "</table>\n",
       "<p>9997 rows × 14 columns</p>\n",
       "</div>"
      ]
     },
     "execution_count": 2,
     "metadata": {},
     "output_type": "execute_result"
    }
   ],
   "execution_count": 2
  },
  {
   "cell_type": "code",
   "metadata": {
    "slideshow": {
     "slide_type": "subslide"
    },
    "ExecuteTime": {
     "end_time": "2025-03-29T10:53:33.452067Z",
     "start_time": "2025-03-29T10:53:33.060660Z"
    }
   },
   "source": [
    "# Plot histobrams\n",
    "data.hist(bins=50, figsize=(12, 9)); plt.show()"
   ],
   "outputs": [
    {
     "data": {
      "text/plain": [
       "<Figure size 1200x900 with 6 Axes>"
      ],
      "image/png": "[encoded data removed]"
     },
     "metadata": {},
     "output_type": "display_data"
    }
   ],
   "execution_count": 3
  },
  {
   "cell_type": "code",
   "metadata": {
    "slideshow": {
     "slide_type": "subslide"
    },
    "ExecuteTime": {
     "end_time": "2025-03-29T10:53:33.474887Z",
     "start_time": "2025-03-29T10:53:33.469999Z"
    }
   },
   "source": [
    "# Count objects\n",
    "data[\"fuel\"].value_counts()"
   ],
   "outputs": [
    {
     "data": {
      "text/plain": [
       "fuel\n",
       "gas    9997\n",
       "Name: count, dtype: int64"
      ]
     },
     "execution_count": 4,
     "metadata": {},
     "output_type": "execute_result"
    }
   ],
   "execution_count": 4
  },
  {
   "cell_type": "code",
   "metadata": {
    "scrolled": true,
    "slideshow": {
     "slide_type": "subslide"
    },
    "ExecuteTime": {
     "end_time": "2025-03-29T10:53:33.535900Z",
     "start_time": "2025-03-29T10:53:33.531202Z"
    }
   },
   "source": [
    "# Create random indices\n",
    "numpy.random.seed(44)\n",
    "N = len(data)\n",
    "shuffled_indices = numpy.random.permutation(N)\n",
    "\n",
    "# Split indices into train, validation and test sets\n",
    "train_indices = shuffled_indices[:int(N*0.6)]\n",
    "valid_indices = shuffled_indices[int(N*0.6):int(N*0.8)]\n",
    "test_indices = shuffled_indices[int(N*0.8):]\n",
    "\n",
    "#  Split data into train, validation and test sets\n",
    "train_set = data.iloc[train_indices]\n",
    "valid_set = data.iloc[valid_indices]\n",
    "test_set = data.iloc[test_indices]\n",
    "\n",
    "train_set.shape, valid_set.shape, test_set.shape"
   ],
   "outputs": [
    {
     "data": {
      "text/plain": [
       "((5998, 14), (1999, 14), (2000, 14))"
      ]
     },
     "execution_count": 5,
     "metadata": {},
     "output_type": "execute_result"
    }
   ],
   "execution_count": 5
  },
  {
   "cell_type": "code",
   "metadata": {
    "slideshow": {
     "slide_type": "subslide"
    },
    "ExecuteTime": {
     "end_time": "2025-03-29T10:53:33.988714Z",
     "start_time": "2025-03-29T10:53:33.602485Z"
    }
   },
   "source": [
    "# Check correlations between variables\n",
    "corr_matrix = train_set.corr()\n",
    "corr_matrix"
   ],
   "outputs": [
    {
     "ename": "ValueError",
     "evalue": "could not convert string to float: 'ford'",
     "output_type": "error",
     "traceback": [
      "\u001B[31m---------------------------------------------------------------------------\u001B[39m",
      "\u001B[31mValueError\u001B[39m                                Traceback (most recent call last)",
      "\u001B[36mCell\u001B[39m\u001B[36m \u001B[39m\u001B[32mIn[6]\u001B[39m\u001B[32m, line 2\u001B[39m\n\u001B[32m      1\u001B[39m \u001B[38;5;66;03m# Check correlations between variables\u001B[39;00m\n\u001B[32m----> \u001B[39m\u001B[32m2\u001B[39m corr_matrix = \u001B[43mtrain_set\u001B[49m\u001B[43m.\u001B[49m\u001B[43mcorr\u001B[49m\u001B[43m(\u001B[49m\u001B[43m)\u001B[49m\n\u001B[32m      3\u001B[39m corr_matrix\n",
      "\u001B[36mFile \u001B[39m\u001B[32m/opt/miniconda3/lib/python3.12/site-packages/pandas/core/frame.py:11049\u001B[39m, in \u001B[36mDataFrame.corr\u001B[39m\u001B[34m(self, method, min_periods, numeric_only)\u001B[39m\n\u001B[32m  11047\u001B[39m cols = data.columns\n\u001B[32m  11048\u001B[39m idx = cols.copy()\n\u001B[32m> \u001B[39m\u001B[32m11049\u001B[39m mat = \u001B[43mdata\u001B[49m\u001B[43m.\u001B[49m\u001B[43mto_numpy\u001B[49m\u001B[43m(\u001B[49m\u001B[43mdtype\u001B[49m\u001B[43m=\u001B[49m\u001B[38;5;28;43mfloat\u001B[39;49m\u001B[43m,\u001B[49m\u001B[43m \u001B[49m\u001B[43mna_value\u001B[49m\u001B[43m=\u001B[49m\u001B[43mnp\u001B[49m\u001B[43m.\u001B[49m\u001B[43mnan\u001B[49m\u001B[43m,\u001B[49m\u001B[43m \u001B[49m\u001B[43mcopy\u001B[49m\u001B[43m=\u001B[49m\u001B[38;5;28;43;01mFalse\u001B[39;49;00m\u001B[43m)\u001B[49m\n\u001B[32m  11051\u001B[39m \u001B[38;5;28;01mif\u001B[39;00m method == \u001B[33m\"\u001B[39m\u001B[33mpearson\u001B[39m\u001B[33m\"\u001B[39m:\n\u001B[32m  11052\u001B[39m     correl = libalgos.nancorr(mat, minp=min_periods)\n",
      "\u001B[36mFile \u001B[39m\u001B[32m/opt/miniconda3/lib/python3.12/site-packages/pandas/core/frame.py:1993\u001B[39m, in \u001B[36mDataFrame.to_numpy\u001B[39m\u001B[34m(self, dtype, copy, na_value)\u001B[39m\n\u001B[32m   1991\u001B[39m \u001B[38;5;28;01mif\u001B[39;00m dtype \u001B[38;5;129;01mis\u001B[39;00m \u001B[38;5;129;01mnot\u001B[39;00m \u001B[38;5;28;01mNone\u001B[39;00m:\n\u001B[32m   1992\u001B[39m     dtype = np.dtype(dtype)\n\u001B[32m-> \u001B[39m\u001B[32m1993\u001B[39m result = \u001B[38;5;28;43mself\u001B[39;49m\u001B[43m.\u001B[49m\u001B[43m_mgr\u001B[49m\u001B[43m.\u001B[49m\u001B[43mas_array\u001B[49m\u001B[43m(\u001B[49m\u001B[43mdtype\u001B[49m\u001B[43m=\u001B[49m\u001B[43mdtype\u001B[49m\u001B[43m,\u001B[49m\u001B[43m \u001B[49m\u001B[43mcopy\u001B[49m\u001B[43m=\u001B[49m\u001B[43mcopy\u001B[49m\u001B[43m,\u001B[49m\u001B[43m \u001B[49m\u001B[43mna_value\u001B[49m\u001B[43m=\u001B[49m\u001B[43mna_value\u001B[49m\u001B[43m)\u001B[49m\n\u001B[32m   1994\u001B[39m \u001B[38;5;28;01mif\u001B[39;00m result.dtype \u001B[38;5;129;01mis\u001B[39;00m \u001B[38;5;129;01mnot\u001B[39;00m dtype:\n\u001B[32m   1995\u001B[39m     result = np.asarray(result, dtype=dtype)\n",
      "\u001B[36mFile \u001B[39m\u001B[32m/opt/miniconda3/lib/python3.12/site-packages/pandas/core/internals/managers.py:1694\u001B[39m, in \u001B[36mBlockManager.as_array\u001B[39m\u001B[34m(self, dtype, copy, na_value)\u001B[39m\n\u001B[32m   1692\u001B[39m         arr.flags.writeable = \u001B[38;5;28;01mFalse\u001B[39;00m\n\u001B[32m   1693\u001B[39m \u001B[38;5;28;01melse\u001B[39;00m:\n\u001B[32m-> \u001B[39m\u001B[32m1694\u001B[39m     arr = \u001B[38;5;28;43mself\u001B[39;49m\u001B[43m.\u001B[49m\u001B[43m_interleave\u001B[49m\u001B[43m(\u001B[49m\u001B[43mdtype\u001B[49m\u001B[43m=\u001B[49m\u001B[43mdtype\u001B[49m\u001B[43m,\u001B[49m\u001B[43m \u001B[49m\u001B[43mna_value\u001B[49m\u001B[43m=\u001B[49m\u001B[43mna_value\u001B[49m\u001B[43m)\u001B[49m\n\u001B[32m   1695\u001B[39m     \u001B[38;5;66;03m# The underlying data was copied within _interleave, so no need\u001B[39;00m\n\u001B[32m   1696\u001B[39m     \u001B[38;5;66;03m# to further copy if copy=True or setting na_value\u001B[39;00m\n\u001B[32m   1698\u001B[39m \u001B[38;5;28;01mif\u001B[39;00m na_value \u001B[38;5;129;01mis\u001B[39;00m lib.no_default:\n",
      "\u001B[36mFile \u001B[39m\u001B[32m/opt/miniconda3/lib/python3.12/site-packages/pandas/core/internals/managers.py:1753\u001B[39m, in \u001B[36mBlockManager._interleave\u001B[39m\u001B[34m(self, dtype, na_value)\u001B[39m\n\u001B[32m   1751\u001B[39m     \u001B[38;5;28;01melse\u001B[39;00m:\n\u001B[32m   1752\u001B[39m         arr = blk.get_values(dtype)\n\u001B[32m-> \u001B[39m\u001B[32m1753\u001B[39m     \u001B[43mresult\u001B[49m\u001B[43m[\u001B[49m\u001B[43mrl\u001B[49m\u001B[43m.\u001B[49m\u001B[43mindexer\u001B[49m\u001B[43m]\u001B[49m = arr\n\u001B[32m   1754\u001B[39m     itemmask[rl.indexer] = \u001B[32m1\u001B[39m\n\u001B[32m   1756\u001B[39m \u001B[38;5;28;01mif\u001B[39;00m \u001B[38;5;129;01mnot\u001B[39;00m itemmask.all():\n",
      "\u001B[31mValueError\u001B[39m: could not convert string to float: 'ford'"
     ]
    }
   ],
   "execution_count": 6
  },
  {
   "cell_type": "code",
   "execution_count": null,
   "metadata": {
    "slideshow": {
     "slide_type": "subslide"
    }
   },
   "outputs": [],
   "source": [
    "# Display correlation plots\n",
    "attributes = [\"price\", \"year\", \"F1\", \"F2\", 'F3']\n",
    "pandas.plotting.scatter_matrix(train_set[attributes], figsize=(12, 8), hist_kwds={'bins': 50})\n",
    "plt.show()"
   ]
  },
  {
   "cell_type": "markdown",
   "metadata": {
    "slideshow": {
     "slide_type": "slide"
    }
   },
   "source": [
    "### Preprocessing"
   ]
  },
  {
   "cell_type": "code",
   "execution_count": null,
   "metadata": {
    "slideshow": {
     "slide_type": "-"
    }
   },
   "outputs": [],
   "source": [
    "def transform(input_data, dependent_variable_name, cathegorical_variable_names):\n",
    "    \"\"\"Define the full preprocessing pipline.\"\"\"\n",
    "    # Drop NA\n",
    "    transformed = input_data.dropna()\n",
    "    \n",
    "    # Drop fuel\n",
    "    transformed = transformed.drop(columns='fuel')\n",
    "    \n",
    "    # Drop unrealistic odometer\n",
    "    transformed = transformed[transformed.odometer < 3*10**6]\n",
    "    \n",
    "    # Drop unrealistic price\n",
    "    transformed = transformed[transformed.price > 0]\n",
    "\n",
    "    # Select the dependent variable\n",
    "    dependent = transformed[dependent_variable_name].copy()\n",
    "    \n",
    "    # Select the independent variables\n",
    "    independent = transformed.drop(dependent_variable_name, axis=1)\n",
    "\n",
    "    # Encode the cathegorical variable as one hot vectors\n",
    "    ordinal_encoder = sklearn.preprocessing.OrdinalEncoder()\n",
    "    encoded = ordinal_encoder.fit_transform(independent[cathegorical_variable_names])\n",
    "    onehot_encoder = sklearn.preprocessing.OneHotEncoder()\n",
    "    one_hot = onehot_encoder.fit_transform(independent[cathegorical_variable_names]).toarray()\n",
    "        \n",
    "    # Replace the cathegorical variables by the one hot vectors\n",
    "    independent = independent.drop(cathegorical_variable_names, axis=1)\n",
    "    width = one_hot.shape[-1]\n",
    "    onehot_names = [f'c{i}' for i in range(width)]\n",
    "    independent[onehot_names] = one_hot\n",
    "    \n",
    "    return independent, dependent"
   ]
  },
  {
   "cell_type": "code",
   "execution_count": null,
   "metadata": {
    "slideshow": {
     "slide_type": "subslide"
    }
   },
   "outputs": [],
   "source": [
    "# Transform the training data\n",
    "train_x, train_y = transform(\n",
    "    train_set,\n",
    "    dependent_variable_name='price',\n",
    "    cathegorical_variable_names=[\n",
    "        \"manufacturer\", 'condition', 'cylinders', 'transmission', 'type', 'paint_color', 'F4']\n",
    ")\n",
    "\n",
    "train_x"
   ]
  },
  {
   "cell_type": "code",
   "execution_count": null,
   "metadata": {
    "slideshow": {
     "slide_type": "subslide"
    }
   },
   "outputs": [],
   "source": [
    "# Transform the validation data\n",
    "valid_x, valid_y = transform(\n",
    "    valid_set,\n",
    "    dependent_variable_name='price',\n",
    "    cathegorical_variable_names=[\n",
    "        \"manufacturer\", 'condition', 'cylinders', 'transmission', 'type', 'paint_color', 'F4']\n",
    ")\n",
    "\n",
    "valid_x.shape, valid_y.shape"
   ]
  },
  {
   "cell_type": "code",
   "execution_count": null,
   "metadata": {
    "slideshow": {
     "slide_type": "subslide"
    }
   },
   "outputs": [],
   "source": [
    "# Transform the test data\n",
    "test_x, test_y = transform(\n",
    "    test_set,\n",
    "    dependent_variable_name='price',\n",
    "    cathegorical_variable_names=[\n",
    "        \"manufacturer\", 'condition', 'cylinders', 'transmission', 'type', 'paint_color', 'F4']\n",
    ")\n",
    "\n",
    "test_x.shape, test_y.shape"
   ]
  },
  {
   "cell_type": "markdown",
   "metadata": {
    "slideshow": {
     "slide_type": "slide"
    }
   },
   "source": [
    "### Training"
   ]
  },
  {
   "cell_type": "code",
   "execution_count": null,
   "metadata": {
    "slideshow": {
     "slide_type": "-"
    }
   },
   "outputs": [],
   "source": [
    "# Define and fit a linear regression model\n",
    "reg1 = sklearn.linear_model.LinearRegression()\n",
    "reg1.fit(train_x, train_y)\n",
    "\n",
    "# Check the L2 distance\n",
    "numpy.sqrt(sklearn.metrics.mean_squared_error(reg1.predict(valid_x), valid_y))"
   ]
  },
  {
   "cell_type": "code",
   "execution_count": null,
   "metadata": {},
   "outputs": [],
   "source": [
    "reg1.coef_[:5]"
   ]
  },
  {
   "cell_type": "markdown",
   "metadata": {
    "slideshow": {
     "slide_type": "slide"
    }
   },
   "source": [
    "### Fine Tuning"
   ]
  },
  {
   "cell_type": "code",
   "execution_count": null,
   "metadata": {},
   "outputs": [],
   "source": [
    "reg2 = sklearn.linear_model.Lasso(alpha=20)\n",
    "reg2.fit(train_x, train_y)\n",
    "\n",
    "# Check the performance\n",
    "numpy.sqrt(sklearn.metrics.mean_squared_error(reg2.predict(valid_x), valid_y))"
   ]
  },
  {
   "cell_type": "code",
   "execution_count": null,
   "metadata": {},
   "outputs": [],
   "source": [
    "reg2.coef_[:5]"
   ]
  },
  {
   "cell_type": "code",
   "execution_count": null,
   "metadata": {
    "slideshow": {
     "slide_type": "subslide"
    }
   },
   "outputs": [],
   "source": [
    "reg3 = sklearn.linear_model.Lasso(alpha=20)\n",
    "reg3.fit(train_x, train_y)\n",
    "\n",
    "# Check the performance\n",
    "numpy.sqrt(sklearn.metrics.mean_squared_error(reg3.predict(valid_x), valid_y))"
   ]
  },
  {
   "cell_type": "code",
   "execution_count": null,
   "metadata": {},
   "outputs": [],
   "source": [
    "reg3.coef_[:5]"
   ]
  },
  {
   "cell_type": "code",
   "execution_count": null,
   "metadata": {},
   "outputs": [],
   "source": [
    "train_set"
   ]
  },
  {
   "cell_type": "code",
   "execution_count": null,
   "metadata": {
    "slideshow": {
     "slide_type": "subslide"
    }
   },
   "outputs": [],
   "source": [
    "def transform(input_data, dependent_variable_name, cathegorical_variable_names):\n",
    "    \"\"\"Define the full preprocessing pipline.\"\"\"\n",
    "    # Deal with NA\n",
    "    transformed = input_data.copy()\n",
    "    transformed['odometer'] = transformed['odometer'].fillna(train_set.odometer.mean())\n",
    "    \n",
    "    # Drop fuel\n",
    "    transformed = transformed.drop(columns='fuel')\n",
    "    \n",
    "    # Drop F2\n",
    "    transformed = transformed.drop(columns='F2')\n",
    "    \n",
    "    # Drop unrealistic odometer\n",
    "    transformed = transformed[transformed.odometer < 3*10**6]\n",
    "    \n",
    "    # Drop unrealistic price\n",
    "    transformed = transformed[transformed.price > 0]\n",
    "\n",
    "    # Select the dependent variable\n",
    "    dependent = transformed[dependent_variable_name].copy()\n",
    "    \n",
    "    # Select the independent variables\n",
    "    independent = transformed.drop(dependent_variable_name, axis=1)\n",
    "\n",
    "    # Feature Engineering\n",
    "    independent['year2'] = (2021 - independent['year'])**2\n",
    "    independent['year3'] = (2021 - independent['year'])**3\n",
    "    independent['odometer2'] = (independent['odometer']/10**5)**2\n",
    "    \n",
    "    # Encode the cathegorical variable as one hot vectors\n",
    "    ordinal_encoder = sklearn.preprocessing.OrdinalEncoder()\n",
    "    encoded = ordinal_encoder.fit_transform(independent[cathegorical_variable_names])\n",
    "    onehot_encoder = sklearn.preprocessing.OneHotEncoder()\n",
    "    one_hot = onehot_encoder.fit_transform(independent[cathegorical_variable_names]).toarray()\n",
    "        \n",
    "    # Replace the cathegorical variables by the one hot vectors\n",
    "    independent = independent.drop(cathegorical_variable_names, axis=1)\n",
    "    width = one_hot.shape[-1]\n",
    "    onehot_names = [f'c{i}' for i in range(width)]\n",
    "    independent[onehot_names] = one_hot\n",
    "    \n",
    "    return independent, dependent"
   ]
  },
  {
   "cell_type": "code",
   "execution_count": null,
   "metadata": {},
   "outputs": [],
   "source": [
    "# Transform the training data\n",
    "train_x, train_y = transform(\n",
    "    train_set,\n",
    "    dependent_variable_name='price',\n",
    "    cathegorical_variable_names=[\n",
    "        'cylinders', \"manufacturer\", 'condition', 'transmission', 'type', 'paint_color', 'F4']\n",
    ")\n",
    "\n",
    "valid_x, valid_y = transform(\n",
    "    valid_set,\n",
    "    dependent_variable_name='price',\n",
    "    cathegorical_variable_names=[\n",
    "        'cylinders', \"manufacturer\", 'condition', 'transmission', 'type', 'paint_color', 'F4']\n",
    ")\n",
    "\n",
    "test_x, test_y = transform(\n",
    "    test_set,\n",
    "    dependent_variable_name='price',\n",
    "    cathegorical_variable_names=[\n",
    "        'cylinders', \"manufacturer\", 'condition', 'transmission', 'type', 'paint_color', 'F4']\n",
    ")\n",
    "\n",
    "train_x"
   ]
  },
  {
   "cell_type": "code",
   "execution_count": null,
   "metadata": {},
   "outputs": [],
   "source": [
    "reg4 = sklearn.linear_model.Ridge(alpha=10)\n",
    "reg4.fit(train_x, train_y)\n",
    "\n",
    "# Check the performance\n",
    "numpy.sqrt(sklearn.metrics.mean_squared_error(reg4.predict(valid_x), valid_y))"
   ]
  },
  {
   "cell_type": "code",
   "execution_count": null,
   "metadata": {},
   "outputs": [],
   "source": [
    "reg4.coef_[:10]"
   ]
  },
  {
   "cell_type": "code",
   "execution_count": null,
   "metadata": {},
   "outputs": [],
   "source": [
    "def transform(input_data, dependent_variable_name, cathegorical_variable_names):\n",
    "    \"\"\"Define the full preprocessing pipline.\"\"\"\n",
    "    # Deal with NA\n",
    "    transformed = input_data.copy()\n",
    "    transformed['odometer'] = transformed['odometer'].fillna(train_set.odometer.mean())\n",
    "    \n",
    "    # Drop fuel\n",
    "    transformed = transformed.drop(columns='fuel')\n",
    "    \n",
    "    # Drop F2\n",
    "    transformed = transformed.drop(columns='F2')\n",
    "    \n",
    "    # Drop unrealistic odometer\n",
    "    transformed = transformed[transformed.odometer < 3*10**6]\n",
    "    \n",
    "    # Drop unrealistic price\n",
    "    transformed = transformed[transformed.price > 0]\n",
    "\n",
    "    # Select the dependent variable\n",
    "    dependent = transformed[dependent_variable_name].copy()\n",
    "    \n",
    "    # Select the independent variables\n",
    "    independent = transformed.drop(dependent_variable_name, axis=1)\n",
    "\n",
    "    # Feature Engineering\n",
    "    independent['year2'] = (2021 - independent['year'])**2\n",
    "    independent['year3'] = (2021 - independent['year'])**3\n",
    "    independent['odometer2'] = (independent['odometer']/10**5)**2\n",
    "    \n",
    "    # test\n",
    "    mapping = {'4 cylinders': 4, '6 cylinders': 6, '8 cylinders': 8}\n",
    "    independent['cylinders'] = [mapping[c] for c in independent['cylinders']]\n",
    "    \n",
    "    # Encode the cathegorical variable as one hot vectors\n",
    "    ordinal_encoder = sklearn.preprocessing.OrdinalEncoder()\n",
    "    encoded = ordinal_encoder.fit_transform(independent[cathegorical_variable_names])\n",
    "    onehot_encoder = sklearn.preprocessing.OneHotEncoder()\n",
    "    one_hot = onehot_encoder.fit_transform(independent[cathegorical_variable_names]).toarray()\n",
    "        \n",
    "    # Replace the cathegorical variables by the one hot vectors\n",
    "    independent = independent.drop(cathegorical_variable_names, axis=1)\n",
    "    width = one_hot.shape[-1]\n",
    "    onehot_names = [f'c{i}' for i in range(width)]\n",
    "    independent[onehot_names] = one_hot\n",
    "    \n",
    "    return independent, dependent"
   ]
  },
  {
   "cell_type": "code",
   "execution_count": null,
   "metadata": {},
   "outputs": [],
   "source": [
    "# Transform the training data\n",
    "train_x, train_y = transform(\n",
    "    train_set,\n",
    "    dependent_variable_name='price',\n",
    "    cathegorical_variable_names=[\n",
    "        \"manufacturer\", 'condition', 'transmission', 'type', 'paint_color', 'F4']\n",
    ")\n",
    "\n",
    "valid_x, valid_y = transform(\n",
    "    valid_set,\n",
    "    dependent_variable_name='price',\n",
    "    cathegorical_variable_names=[\n",
    "        \"manufacturer\", 'condition', 'transmission', 'type', 'paint_color', 'F4']\n",
    ")\n",
    "\n",
    "test_x, test_y = transform(\n",
    "    test_set,\n",
    "    dependent_variable_name='price',\n",
    "    cathegorical_variable_names=[\n",
    "        \"manufacturer\", 'condition', 'transmission', 'type', 'paint_color', 'F4']\n",
    ")\n",
    "\n",
    "train_x"
   ]
  },
  {
   "cell_type": "code",
   "execution_count": null,
   "metadata": {
    "slideshow": {
     "slide_type": "subslide"
    }
   },
   "outputs": [],
   "source": [
    "reg4 = sklearn.linear_model.Ridge(alpha=10)\n",
    "reg4.fit(train_x, train_y)\n",
    "\n",
    "# Check the performance\n",
    "numpy.sqrt(sklearn.metrics.mean_squared_error(reg4.predict(valid_x), valid_y))"
   ]
  },
  {
   "cell_type": "code",
   "execution_count": null,
   "metadata": {},
   "outputs": [],
   "source": [
    "reg4.coef_[:10]"
   ]
  },
  {
   "cell_type": "code",
   "execution_count": null,
   "metadata": {},
   "outputs": [],
   "source": [
    "sklearn.metrics.mean_absolute_error(reg4.predict(valid_x), valid_y)"
   ]
  },
  {
   "cell_type": "code",
   "execution_count": null,
   "metadata": {},
   "outputs": [],
   "source": [
    "data[(data.price > 0) & (data.price < 100_000)].groupby('cylinders').mean()"
   ]
  },
  {
   "cell_type": "markdown",
   "metadata": {
    "slideshow": {
     "slide_type": "slide"
    }
   },
   "source": [
    "### Training for real"
   ]
  },
  {
   "cell_type": "code",
   "execution_count": null,
   "metadata": {},
   "outputs": [],
   "source": [
    "train_an_valid_x = pandas.concat([train_x, valid_x])\n",
    "train_an_valid_y = pandas.concat([train_y, valid_y])\n",
    "\n",
    "train_an_valid_x.shape, train_an_valid_y.shape"
   ]
  },
  {
   "cell_type": "code",
   "execution_count": null,
   "metadata": {},
   "outputs": [],
   "source": [
    "reg = sklearn.linear_model.Ridge(alpha=10.0)\n",
    "reg.fit(train_an_valid_x, train_an_valid_y)\n",
    "\n",
    "# Check the performance\n",
    "numpy.sqrt(sklearn.metrics.mean_squared_error(reg.predict(test_x), test_y))"
   ]
  },
  {
   "cell_type": "code",
   "execution_count": null,
   "metadata": {},
   "outputs": [],
   "source": [
    "sklearn.metrics.mean_absolute_error(reg.predict(test_x), test_y)"
   ]
  }
 ],
 "metadata": {
  "celltoolbar": "Slideshow",
  "jupytext": {
   "formats": "ipynb"
  },
  "kernelspec": {
   "display_name": "Python 3 (ipykernel)",
   "language": "python",
   "name": "python3"
  },
  "language_info": {
   "codemirror_mode": {
    "name": "ipython",
    "version": 3
   },
   "file_extension": ".py",
   "mimetype": "text/x-python",
   "name": "python",
   "nbconvert_exporter": "python",
   "pygments_lexer": "ipython3",
   "version": "3.10.12"
  },
  "rise": {
   "autolaunch": false,
   "enable_chalkboard": true,
   "footer": "",
   "header": "<h3>PHYS 304 | Lecture 01</h3>",
   "scroll": true
  }
 },
 "nbformat": 4,
 "nbformat_minor": 2
}
