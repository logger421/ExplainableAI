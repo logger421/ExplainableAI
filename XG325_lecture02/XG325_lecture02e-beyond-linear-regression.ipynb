{
 "cells": [
  {
   "cell_type": "markdown",
   "metadata": {
    "collapsed": true,
    "slideshow": {
     "slide_type": "slide"
    }
   },
   "source": [
    "# XG325: Explainable Artificial Intelligence\n",
    "    \n",
    "## Beyond Linear Regression\n",
    "\n",
    "**Week 04 | Lecture 02**\n",
    "\n",
    "_Saturday, March 29, 2025_\n",
    "\n",
    "Presented by Dr. Marcin Abram"
   ]
  },
  {
   "cell_type": "code",
   "execution_count": null,
   "metadata": {
    "slideshow": {
     "slide_type": "subslide"
    }
   },
   "outputs": [],
   "source": [
    "import numpy\n",
    "import pandas\n",
    "import sklearn.neighbors\n",
    "import sklearn.svm\n",
    "\n",
    "numpy.set_printoptions(suppress=True)\n",
    "numpy.set_printoptions(threshold=10)\n",
    "\n",
    "import matplotlib.pyplot as plt\n",
    "%matplotlib inline\n",
    "\n",
    "from ipywidgets import interact, interactive, fixed, interact_manual"
   ]
  },
  {
   "cell_type": "markdown",
   "metadata": {
    "slideshow": {
     "slide_type": "slide"
    }
   },
   "source": [
    "### Polynomial Regression"
   ]
  },
  {
   "cell_type": "code",
   "execution_count": null,
   "metadata": {},
   "outputs": [],
   "source": [
    "# Prepare data\n",
    "numpy.random.seed(44)\n",
    "x = numpy.linspace(start=0, stop=3.6, num=51).reshape(-1, 1)\n",
    "y = x + 3*x**2 - 0.9*x**3 + 2\n",
    "y += numpy.random.normal(0, 1.2, size=(len(y), 1))\n",
    "\n",
    "plt.plot(x, y, 'ko'); plt.show()"
   ]
  },
  {
   "cell_type": "code",
   "execution_count": null,
   "metadata": {
    "slideshow": {
     "slide_type": "subslide"
    }
   },
   "outputs": [],
   "source": [
    "# Define a linear regression model and fit it to the data\n",
    "reg1 = sklearn.linear_model.LinearRegression()\n",
    "reg1.fit(x, y)\n",
    "\n",
    "# Plot\n",
    "plt.scatter(x, y, c='black')\n",
    "plt.plot(x, reg1.predict(x), linewidth=5, color='tab:red')\n",
    "plt.xlabel('x'); plt.ylabel('y'); plt.show()"
   ]
  },
  {
   "cell_type": "code",
   "execution_count": null,
   "metadata": {
    "scrolled": true,
    "slideshow": {
     "slide_type": "subslide"
    }
   },
   "outputs": [],
   "source": [
    "xx = sklearn.preprocessing.PolynomialFeatures(degree=4, include_bias=False).fit_transform(x)\n",
    "xx"
   ]
  },
  {
   "cell_type": "code",
   "execution_count": null,
   "metadata": {
    "slideshow": {
     "slide_type": "subslide"
    }
   },
   "outputs": [],
   "source": [
    "@interact(k=(1, 13, 2))\n",
    "def plot(k=1):\n",
    "    xx = sklearn.preprocessing.PolynomialFeatures(degree=k, include_bias=False).fit_transform(x)\n",
    "    reg1 = sklearn.linear_model.LinearRegression()\n",
    "    reg1.fit(xx, y)\n",
    "\n",
    "    # Plot\n",
    "    plt.scatter(x, y, c='black')\n",
    "    plt.plot(x, reg1.predict(xx), linewidth=5, color='tab:red')\n",
    "    plt.xlabel('x'); plt.ylabel('y'); plt.show()"
   ]
  },
  {
   "cell_type": "code",
   "execution_count": null,
   "metadata": {
    "slideshow": {
     "slide_type": "subslide"
    }
   },
   "outputs": [],
   "source": [
    "@interact(k=(1, 13, 2))\n",
    "def plot(k=1):\n",
    "    xx = sklearn.preprocessing.PolynomialFeatures(degree=k, include_bias=False).fit_transform(x)\n",
    "    reg1 = sklearn.linear_model.LinearRegression(); reg1.fit(xx, y)\n",
    "    reg2 = sklearn.linear_model.Ridge(alpha=10); reg2.fit(xx, y)\n",
    "\n",
    "    # Plot\n",
    "    plt.scatter(x, y, c='black')\n",
    "    plt.plot(x, reg1.predict(xx), linewidth=5, color='tab:red')\n",
    "    plt.plot(x, reg2.predict(xx), linewidth=5, color='tab:blue')\n",
    "    plt.xlabel('x'); plt.ylabel('y'); plt.show()"
   ]
  },
  {
   "cell_type": "markdown",
   "metadata": {
    "slideshow": {
     "slide_type": "slide"
    }
   },
   "source": [
    "### K-Nearest Neighbours"
   ]
  },
  {
   "cell_type": "code",
   "execution_count": null,
   "metadata": {
    "slideshow": {
     "slide_type": "-"
    }
   },
   "outputs": [],
   "source": [
    "# Generate data\n",
    "x = 2*numpy.random.random(size=(1000, 2)) - 1\n",
    "x"
   ]
  },
  {
   "cell_type": "code",
   "execution_count": null,
   "metadata": {
    "slideshow": {
     "slide_type": "subslide"
    }
   },
   "outputs": [],
   "source": [
    "fun = lambda x: x[:,0]**2 + x[:,1]**2\n",
    "\n",
    "y = fun(x)\n",
    "y[:4]"
   ]
  },
  {
   "cell_type": "code",
   "execution_count": null,
   "metadata": {
    "slideshow": {
     "slide_type": "-"
    }
   },
   "outputs": [],
   "source": [
    "# Plot\n",
    "plt.scatter(*zip(*x), c=y)\n",
    "plt.show()"
   ]
  },
  {
   "cell_type": "code",
   "execution_count": null,
   "metadata": {
    "slideshow": {
     "slide_type": "subslide"
    }
   },
   "outputs": [],
   "source": [
    "# K Nearest Neighbours\n",
    "plt.scatter(*zip(*x), c=y); plt.show()\n",
    "\n",
    "kn = sklearn.neighbors.KNeighborsRegressor(n_neighbors=3)\n",
    "kn.fit(x, y)\n",
    "\n",
    "points = numpy.array([[0.4, 0.5], [-0.3, 0.6], [-100, 60]])\n",
    "kn.predict(points), fun(points)"
   ]
  },
  {
   "cell_type": "code",
   "execution_count": null,
   "metadata": {
    "slideshow": {
     "slide_type": "subslide"
    }
   },
   "outputs": [],
   "source": [
    "# K Nearest Neighbours\n",
    "z = 4*numpy.random.random(size=(1000, 2)) - 2\n",
    "pred = kn.predict(z)\n",
    "\n",
    "plt.scatter(*zip(*z), c=pred); plt.show()"
   ]
  },
  {
   "cell_type": "markdown",
   "metadata": {
    "slideshow": {
     "slide_type": "slide"
    }
   },
   "source": [
    "### Support Vector Machine / Support Vector Regression"
   ]
  },
  {
   "cell_type": "code",
   "execution_count": null,
   "metadata": {},
   "outputs": [],
   "source": [
    "# SVR\n",
    "plt.scatter(*zip(*x), c=y); plt.show()\n",
    "\n",
    "svr = sklearn.svm.SVR(kernel='linear')\n",
    "svr.fit(x, y)\n",
    "\n",
    "points = numpy.array([[0.3, 0.4], [-0.3, 0.6], [-30, 60]])\n",
    "svr.predict(points), fun(points)"
   ]
  },
  {
   "cell_type": "code",
   "execution_count": null,
   "metadata": {
    "slideshow": {
     "slide_type": "subslide"
    }
   },
   "outputs": [],
   "source": [
    "# SVR\n",
    "z = 4*numpy.random.random(size=(1000, 2)) - 2\n",
    "pred = svr.predict(z)\n",
    "\n",
    "plt.scatter(*zip(*z), c=pred); plt.show()"
   ]
  },
  {
   "cell_type": "code",
   "execution_count": null,
   "metadata": {
    "slideshow": {
     "slide_type": "subslide"
    }
   },
   "outputs": [],
   "source": [
    "# SVR + Kernel\n",
    "plt.scatter(*zip(*x), c=y); plt.show()\n",
    "\n",
    "svr = sklearn.svm.SVR(kernel='rbf')\n",
    "svr.fit(x, y)\n",
    "\n",
    "points = numpy.array([[0.3, 0.4], [-0.3, 0.6], [-30, 60]])\n",
    "svr.predict(points), fun(points)"
   ]
  },
  {
   "cell_type": "code",
   "execution_count": null,
   "metadata": {
    "slideshow": {
     "slide_type": "subslide"
    }
   },
   "outputs": [],
   "source": [
    "# SVR + Kernel\n",
    "z = 4*numpy.random.random(size=(1000, 2)) - 2\n",
    "pred = svr.predict(z)\n",
    "\n",
    "plt.scatter(*zip(*z), c=pred); plt.show()"
   ]
  },
  {
   "cell_type": "markdown",
   "metadata": {
    "slideshow": {
     "slide_type": "slide"
    }
   },
   "source": [
    "## Logistic Regression"
   ]
  },
  {
   "cell_type": "code",
   "execution_count": null,
   "metadata": {
    "slideshow": {
     "slide_type": "subslide"
    }
   },
   "outputs": [],
   "source": [
    "@interact(b0=(-5, 5, 1), b1=(-5, 5, 1))\n",
    "def plot(b0=1, b1=1):\n",
    "    p = lambda x: 1/(1 + numpy.exp(-b0 - b1*x))\n",
    "    x = numpy.linspace(-10, 10, 101)\n",
    "    plt.plot(x, p(x)); plt.ylabel('p'); plt.xlabel('x'); plt.grid(); plt.show()"
   ]
  }
 ],
 "metadata": {
  "celltoolbar": "Slideshow",
  "jupytext": {
   "formats": "ipynb"
  },
  "kernelspec": {
   "display_name": "Python 3 (ipykernel)",
   "language": "python",
   "name": "python3"
  },
  "language_info": {
   "codemirror_mode": {
    "name": "ipython",
    "version": 3
   },
   "file_extension": ".py",
   "mimetype": "text/x-python",
   "name": "python",
   "nbconvert_exporter": "python",
   "pygments_lexer": "ipython3",
   "version": "3.10.12"
  },
  "rise": {
   "autolaunch": false,
   "enable_chalkboard": true,
   "footer": "",
   "header": "<h3>PHYS 304 | Lecture 01</h3>",
   "scroll": true
  }
 },
 "nbformat": 4,
 "nbformat_minor": 2
}
